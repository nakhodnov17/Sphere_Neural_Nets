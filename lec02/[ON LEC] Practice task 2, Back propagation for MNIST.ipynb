{
 "cells": [
  {
   "cell_type": "markdown",
   "metadata": {},
   "source": [
    "## Семинар 2 \"Распознавание рукописных цифр\""
   ]
  },
  {
   "cell_type": "markdown",
   "metadata": {},
   "source": [
    "ФИО: "
   ]
  },
  {
   "cell_type": "markdown",
   "metadata": {},
   "source": [
    "В этом задании мы используем нейронную сеть из предыдущего семинара для распознавания рукописных цифр. Также мы исследуем как влияет выбор нелинейности и предобработка данных на качество классификации. \n",
    "\n",
    "Чтобы не тратить время на подготовку данных, мы прилагаем готовый код с примером использования для получения обучающей и тестовой выборок. Для запуска скрипта вам понадобится библиотека PyTorch (инструкции по установке можно найти на сайте <a href=\"http://pytorch.org\">pytorch.org</a>)"
   ]
  },
  {
   "cell_type": "code",
   "execution_count": 1,
   "metadata": {},
   "outputs": [],
   "source": [
    "import matplotlib.pyplot as plt\n",
    "from torch.utils.data import DataLoader\n",
    "from torchvision.datasets import MNIST\n",
    "from torchvision import transforms\n",
    "import numpy as np\n",
    "from layers import Linear, Sigmoid, NLLLoss, NeuralNetwork # Results from Seminar 1\n",
    "%matplotlib inline"
   ]
  },
  {
   "cell_type": "code",
   "execution_count": 2,
   "metadata": {},
   "outputs": [],
   "source": [
    "to_numpy = lambda x: x.numpy()\n",
    "transform = transforms.Compose([\n",
    "                       transforms.ToTensor(),\n",
    "                       transforms.Normalize((0.1307,), (0.3081,))\n",
    "                    ])\n",
    "train_dataset = MNIST('.', train=True, download=True, transform=transform)\n",
    "test_dataset = MNIST('.', train=False, transform=transform)\n",
    "\n",
    "train_loader = DataLoader(train_dataset, batch_size=32, shuffle=True)\n",
    "test_loader = DataLoader(test_dataset, batch_size=32, shuffle=True)"
   ]
  },
  {
   "cell_type": "code",
   "execution_count": 3,
   "metadata": {},
   "outputs": [],
   "source": [
    "## Usage example:\n",
    "for X, y in train_loader:\n",
    "    X = X.view(X.size(0), -1)\n",
    "    X = X.numpy() ### Converts torch.Tensor to numpy array\n",
    "    y = y.numpy()\n",
    "    pass"
   ]
  },
  {
   "cell_type": "code",
   "execution_count": 4,
   "metadata": {},
   "outputs": [
    {
     "data": {
      "image/png": "[encoded data removed]",
      "text/plain": [
       "<matplotlib.figure.Figure at 0x7f626d6fa750>"
      ]
     },
     "metadata": {},
     "output_type": "display_data"
    }
   ],
   "source": [
    "plt.figure(figsize=(6, 7))\n",
    "for i in range(25):\n",
    "    plt.subplot(5, 5, i+1)\n",
    "    plt.imshow(X[i].reshape(28, 28), cmap=plt.cm.Greys_r)\n",
    "    plt.title(y[i])\n",
    "    plt.axis('off')"
   ]
  },
  {
   "cell_type": "markdown",
   "metadata": {},
   "source": [
    "### Часть 1: MNIST\n",
    "Обучите полносвязную нейронную сеть с архитектурой 784-100-100-10 и сигмоидой в качестве нелинейности. Какую точность классификации удалось получить? Нарисуйте график сходимости на обучающей и тестовой выборках. В качестве темпа обучения (learning rate) возьмите 0.01"
   ]
  },
  {
   "cell_type": "code",
   "execution_count": 5,
   "metadata": {},
   "outputs": [],
   "source": [
    "# good rate - 89%"
   ]
  },
  {
   "cell_type": "code",
   "execution_count": 6,
   "metadata": {},
   "outputs": [],
   "source": [
    "arc = [Linear(784, 100), Sigmoid(),\n",
    "       Linear(100, 100), Sigmoid(),\n",
    "       Linear(100, 10)]\n",
    "network = NeuralNetwork(arc)\n",
    "loss = NLLLoss()"
   ]
  },
  {
   "cell_type": "code",
   "execution_count": 9,
   "metadata": {},
   "outputs": [
    {
     "name": "stdout",
     "output_type": "stream",
     "text": [
      "NNL 0.27846416760580894 Acc 0.92545\n",
      "NNL 0.2747813962686737 Acc 0.9258186900958466\n",
      "NNL 0.26221379064338357 Acc 0.9301333333333334\n",
      "NNL 0.26149266015058664 Acc 0.9273162939297125\n",
      "NNL 0.24792520450944472 Acc 0.9329166666666666\n",
      "NNL 0.24847823178907621 Acc 0.9323083067092651\n",
      "NNL 0.2349186789191511 Acc 0.9365\n",
      "NNL 0.2359128842141274 Acc 0.9347044728434505\n",
      "NNL 0.2236860661221836 Acc 0.9400166666666666\n",
      "NNL 0.22707518799635357 Acc 0.9379992012779552\n",
      "NNL 0.21309156915137095 Acc 0.9419166666666666\n",
      "NNL 0.21703082557331174 Acc 0.9403953674121406\n",
      "NNL 0.2035672108591904 Acc 0.94495\n",
      "NNL 0.20796253768032555 Acc 0.9422923322683706\n",
      "NNL 0.19485486106024033 Acc 0.9467166666666667\n",
      "NNL 0.20025743188062803 Acc 0.9446884984025559\n",
      "NNL 0.1867628175082677 Acc 0.9488833333333333\n",
      "NNL 0.19479711873978417 Acc 0.9458865814696485\n",
      "NNL 0.17933078450247902 Acc 0.9512333333333334\n",
      "NNL 0.18775598682396671 Acc 0.9472843450479234\n"
     ]
    }
   ],
   "source": [
    "for epoch in range(10):\n",
    "    losses = []\n",
    "    accuracies = []\n",
    "    for X, y in train_loader:\n",
    "        X = X.view(X.shape[0], -1).numpy()\n",
    "        y = y.numpy()\n",
    "        prediction = network.forward(X)\n",
    "        loss_batch = loss.forward(prediction, y)\n",
    "        losses.append(loss_batch)\n",
    "        dLdx = loss.backward()\n",
    "        network.backward(dLdx)\n",
    "        network.step(0.01)\n",
    "        accuracies.append((np.argmax(prediction, 1)==y).mean())\n",
    "    print \"NNL\", np.mean(losses), \"Acc\", np.mean(accuracies)\n",
    "    \n",
    "    \n",
    "    losses = []\n",
    "    accuracies = []\n",
    "    for X, y in test_loader:\n",
    "        X = X.view(X.shape[0], -1).numpy()\n",
    "        y = y.numpy()\n",
    "        prediction = network.forward(X)\n",
    "        loss_batch = loss.forward(prediction, y)\n",
    "        losses.append(loss_batch)\n",
    "        accuracies.append((np.argmax(prediction, 1)==y).mean())\n",
    "    print \"NNL\", np.mean(losses), \"Acc\", np.mean(accuracies)"
   ]
  },
  {
   "cell_type": "markdown",
   "metadata": {},
   "source": [
    "### Часть 2: Нелинейности"
   ]
  },
  {
   "cell_type": "markdown",
   "metadata": {},
   "source": [
    "Обучите нейронную сеть с другими нелинейностями: ReLU и ELU. Сравните скорости сходимости и качество классификации с различными функциями активации."
   ]
  },
  {
   "cell_type": "code",
   "execution_count": null,
   "metadata": {
    "collapsed": true
   },
   "outputs": [],
   "source": []
  },
  {
   "cell_type": "markdown",
   "metadata": {},
   "source": [
    "### Часть 3: Выводы\n",
    "Опишите полученные результаты: как влияют выбор нелинейности и предобработка данных на скорость сходимости и итоговое качество?"
   ]
  },
  {
   "cell_type": "code",
   "execution_count": null,
   "metadata": {
    "collapsed": true
   },
   "outputs": [],
   "source": []
  }
 ],
 "metadata": {
  "kernelspec": {
   "display_name": "Python 2",
   "language": "python",
   "name": "python2"
  },
  "language_info": {
   "codemirror_mode": {
    "name": "ipython",
    "version": 2
   },
   "file_extension": ".py",
   "mimetype": "text/x-python",
   "name": "python",
   "nbconvert_exporter": "python",
   "pygments_lexer": "ipython2",
   "version": "2.7.12"
  }
 },
 "nbformat": 4,
 "nbformat_minor": 2
}
